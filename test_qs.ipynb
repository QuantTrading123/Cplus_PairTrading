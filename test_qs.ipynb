{
 "cells": [
  {
   "cell_type": "code",
   "execution_count": 4,
   "metadata": {},
   "outputs": [
    {
     "name": "stdout",
     "output_type": "stream",
     "text": [
      "<class 'pandas.core.series.Series'>\n"
     ]
    },
    {
     "ename": "TypeError",
     "evalue": "Invalid comparison between dtype=datetime64[ns, America/New_York] and datetime",
     "output_type": "error",
     "traceback": [
      "\u001b[0;31m---------------------------------------------------------------------------\u001b[0m",
      "\u001b[0;31mTypeError\u001b[0m                                 Traceback (most recent call last)",
      "File \u001b[0;32m~/opt/anaconda3/envs/pair_trading/lib/python3.9/site-packages/pandas/core/arrays/datetimelike.py:536\u001b[0m, in \u001b[0;36mDatetimeLikeArrayMixin._validate_comparison_value\u001b[0;34m(self, other)\u001b[0m\n\u001b[1;32m    535\u001b[0m \u001b[39mtry\u001b[39;00m:\n\u001b[0;32m--> 536\u001b[0m     \u001b[39mself\u001b[39;49m\u001b[39m.\u001b[39;49m_check_compatible_with(other)\n\u001b[1;32m    537\u001b[0m \u001b[39mexcept\u001b[39;00m (\u001b[39mTypeError\u001b[39;00m, IncompatibleFrequency) \u001b[39mas\u001b[39;00m err:\n\u001b[1;32m    538\u001b[0m     \u001b[39m# e.g. tzawareness mismatch\u001b[39;00m\n",
      "File \u001b[0;32m~/opt/anaconda3/envs/pair_trading/lib/python3.9/site-packages/pandas/core/arrays/datetimes.py:508\u001b[0m, in \u001b[0;36mDatetimeArray._check_compatible_with\u001b[0;34m(self, other, setitem)\u001b[0m\n\u001b[1;32m    507\u001b[0m     \u001b[39mreturn\u001b[39;00m\n\u001b[0;32m--> 508\u001b[0m \u001b[39mself\u001b[39;49m\u001b[39m.\u001b[39;49m_assert_tzawareness_compat(other)\n\u001b[1;32m    509\u001b[0m \u001b[39mif\u001b[39;00m setitem:\n\u001b[1;32m    510\u001b[0m     \u001b[39m# Stricter check for setitem vs comparison methods\u001b[39;00m\n",
      "File \u001b[0;32m~/opt/anaconda3/envs/pair_trading/lib/python3.9/site-packages/pandas/core/arrays/datetimes.py:715\u001b[0m, in \u001b[0;36mDatetimeArray._assert_tzawareness_compat\u001b[0;34m(self, other)\u001b[0m\n\u001b[1;32m    714\u001b[0m \u001b[39melif\u001b[39;00m other_tz \u001b[39mis\u001b[39;00m \u001b[39mNone\u001b[39;00m:\n\u001b[0;32m--> 715\u001b[0m     \u001b[39mraise\u001b[39;00m \u001b[39mTypeError\u001b[39;00m(\n\u001b[1;32m    716\u001b[0m         \u001b[39m\"\u001b[39m\u001b[39mCannot compare tz-naive and tz-aware datetime-like objects\u001b[39m\u001b[39m\"\u001b[39m\n\u001b[1;32m    717\u001b[0m     )\n",
      "\u001b[0;31mTypeError\u001b[0m: Cannot compare tz-naive and tz-aware datetime-like objects",
      "\nThe above exception was the direct cause of the following exception:\n",
      "\u001b[0;31mInvalidComparison\u001b[0m                         Traceback (most recent call last)",
      "File \u001b[0;32m~/opt/anaconda3/envs/pair_trading/lib/python3.9/site-packages/pandas/core/arrays/datetimelike.py:1008\u001b[0m, in \u001b[0;36mDatetimeLikeArrayMixin._cmp_method\u001b[0;34m(self, other, op)\u001b[0m\n\u001b[1;32m   1007\u001b[0m \u001b[39mtry\u001b[39;00m:\n\u001b[0;32m-> 1008\u001b[0m     other \u001b[39m=\u001b[39m \u001b[39mself\u001b[39;49m\u001b[39m.\u001b[39;49m_validate_comparison_value(other)\n\u001b[1;32m   1009\u001b[0m \u001b[39mexcept\u001b[39;00m InvalidComparison:\n",
      "File \u001b[0;32m~/opt/anaconda3/envs/pair_trading/lib/python3.9/site-packages/pandas/core/arrays/datetimelike.py:539\u001b[0m, in \u001b[0;36mDatetimeLikeArrayMixin._validate_comparison_value\u001b[0;34m(self, other)\u001b[0m\n\u001b[1;32m    537\u001b[0m     \u001b[39mexcept\u001b[39;00m (\u001b[39mTypeError\u001b[39;00m, IncompatibleFrequency) \u001b[39mas\u001b[39;00m err:\n\u001b[1;32m    538\u001b[0m         \u001b[39m# e.g. tzawareness mismatch\u001b[39;00m\n\u001b[0;32m--> 539\u001b[0m         \u001b[39mraise\u001b[39;00m InvalidComparison(other) \u001b[39mfrom\u001b[39;00m \u001b[39merr\u001b[39;00m\n\u001b[1;32m    541\u001b[0m \u001b[39melif\u001b[39;00m \u001b[39mnot\u001b[39;00m is_list_like(other):\n",
      "\u001b[0;31mInvalidComparison\u001b[0m: 2022-11-01 00:00:00",
      "\nDuring handling of the above exception, another exception occurred:\n",
      "\u001b[0;31mTypeError\u001b[0m                                 Traceback (most recent call last)",
      "\u001b[1;32m/Users/allen.kuo/woody_cplus/test_qs.ipynb Cell 1\u001b[0m in \u001b[0;36m<cell line: 15>\u001b[0;34m()\u001b[0m\n\u001b[1;32m     <a href='vscode-notebook-cell:/Users/allen.kuo/woody_cplus/test_qs.ipynb#W0sZmlsZQ%3D%3D?line=12'>13</a>\u001b[0m \u001b[39m# or using extend_pandas() :\u001b[39;00m\n\u001b[1;32m     <a href='vscode-notebook-cell:/Users/allen.kuo/woody_cplus/test_qs.ipynb#W0sZmlsZQ%3D%3D?line=13'>14</a>\u001b[0m stock\u001b[39m.\u001b[39msharpe()\n\u001b[0;32m---> <a href='vscode-notebook-cell:/Users/allen.kuo/woody_cplus/test_qs.ipynb#W0sZmlsZQ%3D%3D?line=14'>15</a>\u001b[0m qs\u001b[39m.\u001b[39;49mreports\u001b[39m.\u001b[39;49mhtml(stock, \u001b[39m\"\u001b[39;49m\u001b[39mSPY\u001b[39;49m\u001b[39m\"\u001b[39;49m)\n",
      "File \u001b[0;32m~/opt/anaconda3/envs/pair_trading/lib/python3.9/site-packages/quantstats/reports.py:96\u001b[0m, in \u001b[0;36mhtml\u001b[0;34m(returns, benchmark, rf, grayscale, title, output, compounded, periods_per_year, download_filename, figfmt, template_path, match_dates, **kwargs)\u001b[0m\n\u001b[1;32m     93\u001b[0m tpl \u001b[39m=\u001b[39m tpl\u001b[39m.\u001b[39mreplace(\u001b[39m'\u001b[39m\u001b[39m{{\u001b[39m\u001b[39mtitle}}\u001b[39m\u001b[39m'\u001b[39m, title)\n\u001b[1;32m     94\u001b[0m tpl \u001b[39m=\u001b[39m tpl\u001b[39m.\u001b[39mreplace(\u001b[39m'\u001b[39m\u001b[39m{{\u001b[39m\u001b[39mv}}\u001b[39m\u001b[39m'\u001b[39m, __version__)\n\u001b[0;32m---> 96\u001b[0m mtrx \u001b[39m=\u001b[39m metrics(returns\u001b[39m=\u001b[39;49mreturns, benchmark\u001b[39m=\u001b[39;49mbenchmark,\n\u001b[1;32m     97\u001b[0m                rf\u001b[39m=\u001b[39;49mrf, display\u001b[39m=\u001b[39;49m\u001b[39mFalse\u001b[39;49;00m, mode\u001b[39m=\u001b[39;49m\u001b[39m'\u001b[39;49m\u001b[39mfull\u001b[39;49m\u001b[39m'\u001b[39;49m,\n\u001b[1;32m     98\u001b[0m                sep\u001b[39m=\u001b[39;49m\u001b[39mTrue\u001b[39;49;00m, internal\u001b[39m=\u001b[39;49m\u001b[39m\"\u001b[39;49m\u001b[39mTrue\u001b[39;49m\u001b[39m\"\u001b[39;49m,\n\u001b[1;32m     99\u001b[0m                compounded\u001b[39m=\u001b[39;49mcompounded,\n\u001b[1;32m    100\u001b[0m                periods_per_year\u001b[39m=\u001b[39;49mperiods_per_year,\n\u001b[1;32m    101\u001b[0m                prepare_returns\u001b[39m=\u001b[39;49m\u001b[39mFalse\u001b[39;49;00m)[\u001b[39m2\u001b[39m:]\n\u001b[1;32m    103\u001b[0m mtrx\u001b[39m.\u001b[39mindex\u001b[39m.\u001b[39mname \u001b[39m=\u001b[39m \u001b[39m'\u001b[39m\u001b[39mMetric\u001b[39m\u001b[39m'\u001b[39m\n\u001b[1;32m    104\u001b[0m tpl \u001b[39m=\u001b[39m tpl\u001b[39m.\u001b[39mreplace(\u001b[39m'\u001b[39m\u001b[39m{{\u001b[39m\u001b[39mmetrics}}\u001b[39m\u001b[39m'\u001b[39m, _html_table(mtrx))\n",
      "File \u001b[0;32m~/opt/anaconda3/envs/pair_trading/lib/python3.9/site-packages/quantstats/reports.py:518\u001b[0m, in \u001b[0;36mmetrics\u001b[0;34m(returns, benchmark, rf, display, mode, sep, compounded, periods_per_year, prepare_returns, match_dates, **kwargs)\u001b[0m\n\u001b[1;32m    515\u001b[0m comp_func \u001b[39m=\u001b[39m _stats\u001b[39m.\u001b[39mcomp \u001b[39mif\u001b[39;00m compounded \u001b[39melse\u001b[39;00m _np\u001b[39m.\u001b[39msum\n\u001b[1;32m    517\u001b[0m today \u001b[39m=\u001b[39m df\u001b[39m.\u001b[39mindex[\u001b[39m-\u001b[39m\u001b[39m1\u001b[39m]  \u001b[39m# _dt.today()\u001b[39;00m\n\u001b[0;32m--> 518\u001b[0m metrics[\u001b[39m'\u001b[39m\u001b[39mMTD \u001b[39m\u001b[39m%\u001b[39m\u001b[39m'\u001b[39m] \u001b[39m=\u001b[39m comp_func(df[df\u001b[39m.\u001b[39;49mindex \u001b[39m>\u001b[39;49m\u001b[39m=\u001b[39;49m _dt(today\u001b[39m.\u001b[39;49myear, today\u001b[39m.\u001b[39;49mmonth, \u001b[39m1\u001b[39;49m)]) \u001b[39m*\u001b[39m pct\n\u001b[1;32m    520\u001b[0m d \u001b[39m=\u001b[39m today \u001b[39m-\u001b[39m relativedelta(months\u001b[39m=\u001b[39m\u001b[39m3\u001b[39m)\n\u001b[1;32m    521\u001b[0m metrics[\u001b[39m'\u001b[39m\u001b[39m3M \u001b[39m\u001b[39m%\u001b[39m\u001b[39m'\u001b[39m] \u001b[39m=\u001b[39m comp_func(df[df\u001b[39m.\u001b[39mindex \u001b[39m>\u001b[39m\u001b[39m=\u001b[39m d]) \u001b[39m*\u001b[39m pct\n",
      "File \u001b[0;32m~/opt/anaconda3/envs/pair_trading/lib/python3.9/site-packages/pandas/core/ops/common.py:70\u001b[0m, in \u001b[0;36m_unpack_zerodim_and_defer.<locals>.new_method\u001b[0;34m(self, other)\u001b[0m\n\u001b[1;32m     66\u001b[0m             \u001b[39mreturn\u001b[39;00m \u001b[39mNotImplemented\u001b[39m\n\u001b[1;32m     68\u001b[0m other \u001b[39m=\u001b[39m item_from_zerodim(other)\n\u001b[0;32m---> 70\u001b[0m \u001b[39mreturn\u001b[39;00m method(\u001b[39mself\u001b[39;49m, other)\n",
      "File \u001b[0;32m~/opt/anaconda3/envs/pair_trading/lib/python3.9/site-packages/pandas/core/arraylike.py:60\u001b[0m, in \u001b[0;36mOpsMixin.__ge__\u001b[0;34m(self, other)\u001b[0m\n\u001b[1;32m     58\u001b[0m \u001b[39m@unpack_zerodim_and_defer\u001b[39m(\u001b[39m\"\u001b[39m\u001b[39m__ge__\u001b[39m\u001b[39m\"\u001b[39m)\n\u001b[1;32m     59\u001b[0m \u001b[39mdef\u001b[39;00m \u001b[39m__ge__\u001b[39m(\u001b[39mself\u001b[39m, other):\n\u001b[0;32m---> 60\u001b[0m     \u001b[39mreturn\u001b[39;00m \u001b[39mself\u001b[39;49m\u001b[39m.\u001b[39;49m_cmp_method(other, operator\u001b[39m.\u001b[39;49mge)\n",
      "File \u001b[0;32m~/opt/anaconda3/envs/pair_trading/lib/python3.9/site-packages/pandas/core/indexes/base.py:6685\u001b[0m, in \u001b[0;36mIndex._cmp_method\u001b[0;34m(self, other, op)\u001b[0m\n\u001b[1;32m   6682\u001b[0m         result \u001b[39m=\u001b[39m op(\u001b[39mself\u001b[39m\u001b[39m.\u001b[39m_values, other)\n\u001b[1;32m   6684\u001b[0m \u001b[39melif\u001b[39;00m \u001b[39misinstance\u001b[39m(\u001b[39mself\u001b[39m\u001b[39m.\u001b[39m_values, ExtensionArray):\n\u001b[0;32m-> 6685\u001b[0m     result \u001b[39m=\u001b[39m op(\u001b[39mself\u001b[39;49m\u001b[39m.\u001b[39;49m_values, other)\n\u001b[1;32m   6687\u001b[0m \u001b[39melif\u001b[39;00m is_object_dtype(\u001b[39mself\u001b[39m\u001b[39m.\u001b[39mdtype) \u001b[39mand\u001b[39;00m \u001b[39mnot\u001b[39;00m \u001b[39misinstance\u001b[39m(\u001b[39mself\u001b[39m, ABCMultiIndex):\n\u001b[1;32m   6688\u001b[0m     \u001b[39m# don't pass MultiIndex\u001b[39;00m\n\u001b[1;32m   6689\u001b[0m     \u001b[39mwith\u001b[39;00m np\u001b[39m.\u001b[39merrstate(\u001b[39mall\u001b[39m\u001b[39m=\u001b[39m\u001b[39m\"\u001b[39m\u001b[39mignore\u001b[39m\u001b[39m\"\u001b[39m):\n",
      "File \u001b[0;32m~/opt/anaconda3/envs/pair_trading/lib/python3.9/site-packages/pandas/core/ops/common.py:70\u001b[0m, in \u001b[0;36m_unpack_zerodim_and_defer.<locals>.new_method\u001b[0;34m(self, other)\u001b[0m\n\u001b[1;32m     66\u001b[0m             \u001b[39mreturn\u001b[39;00m \u001b[39mNotImplemented\u001b[39m\n\u001b[1;32m     68\u001b[0m other \u001b[39m=\u001b[39m item_from_zerodim(other)\n\u001b[0;32m---> 70\u001b[0m \u001b[39mreturn\u001b[39;00m method(\u001b[39mself\u001b[39;49m, other)\n",
      "File \u001b[0;32m~/opt/anaconda3/envs/pair_trading/lib/python3.9/site-packages/pandas/core/arraylike.py:60\u001b[0m, in \u001b[0;36mOpsMixin.__ge__\u001b[0;34m(self, other)\u001b[0m\n\u001b[1;32m     58\u001b[0m \u001b[39m@unpack_zerodim_and_defer\u001b[39m(\u001b[39m\"\u001b[39m\u001b[39m__ge__\u001b[39m\u001b[39m\"\u001b[39m)\n\u001b[1;32m     59\u001b[0m \u001b[39mdef\u001b[39;00m \u001b[39m__ge__\u001b[39m(\u001b[39mself\u001b[39m, other):\n\u001b[0;32m---> 60\u001b[0m     \u001b[39mreturn\u001b[39;00m \u001b[39mself\u001b[39;49m\u001b[39m.\u001b[39;49m_cmp_method(other, operator\u001b[39m.\u001b[39;49mge)\n",
      "File \u001b[0;32m~/opt/anaconda3/envs/pair_trading/lib/python3.9/site-packages/pandas/core/arrays/datetimelike.py:1010\u001b[0m, in \u001b[0;36mDatetimeLikeArrayMixin._cmp_method\u001b[0;34m(self, other, op)\u001b[0m\n\u001b[1;32m   1008\u001b[0m     other \u001b[39m=\u001b[39m \u001b[39mself\u001b[39m\u001b[39m.\u001b[39m_validate_comparison_value(other)\n\u001b[1;32m   1009\u001b[0m \u001b[39mexcept\u001b[39;00m InvalidComparison:\n\u001b[0;32m-> 1010\u001b[0m     \u001b[39mreturn\u001b[39;00m invalid_comparison(\u001b[39mself\u001b[39;49m, other, op)\n\u001b[1;32m   1012\u001b[0m dtype \u001b[39m=\u001b[39m \u001b[39mgetattr\u001b[39m(other, \u001b[39m\"\u001b[39m\u001b[39mdtype\u001b[39m\u001b[39m\"\u001b[39m, \u001b[39mNone\u001b[39;00m)\n\u001b[1;32m   1013\u001b[0m \u001b[39mif\u001b[39;00m is_object_dtype(dtype):\n\u001b[1;32m   1014\u001b[0m     \u001b[39m# We have to use comp_method_OBJECT_ARRAY instead of numpy\u001b[39;00m\n\u001b[1;32m   1015\u001b[0m     \u001b[39m#  comparison otherwise it would fail to raise when\u001b[39;00m\n\u001b[1;32m   1016\u001b[0m     \u001b[39m#  comparing tz-aware and tz-naive\u001b[39;00m\n",
      "File \u001b[0;32m~/opt/anaconda3/envs/pair_trading/lib/python3.9/site-packages/pandas/core/ops/invalid.py:34\u001b[0m, in \u001b[0;36minvalid_comparison\u001b[0;34m(left, right, op)\u001b[0m\n\u001b[1;32m     32\u001b[0m \u001b[39melse\u001b[39;00m:\n\u001b[1;32m     33\u001b[0m     typ \u001b[39m=\u001b[39m \u001b[39mtype\u001b[39m(right)\u001b[39m.\u001b[39m\u001b[39m__name__\u001b[39m\n\u001b[0;32m---> 34\u001b[0m     \u001b[39mraise\u001b[39;00m \u001b[39mTypeError\u001b[39;00m(\u001b[39mf\u001b[39m\u001b[39m\"\u001b[39m\u001b[39mInvalid comparison between dtype=\u001b[39m\u001b[39m{\u001b[39;00mleft\u001b[39m.\u001b[39mdtype\u001b[39m}\u001b[39;00m\u001b[39m and \u001b[39m\u001b[39m{\u001b[39;00mtyp\u001b[39m}\u001b[39;00m\u001b[39m\"\u001b[39m)\n\u001b[1;32m     35\u001b[0m \u001b[39mreturn\u001b[39;00m res_values\n",
      "\u001b[0;31mTypeError\u001b[0m: Invalid comparison between dtype=datetime64[ns, America/New_York] and datetime"
     ]
    }
   ],
   "source": [
    "%matplotlib inline\n",
    "import quantstats as qs\n",
    "\n",
    "# extend pandas functionality with metrics, etc.\n",
    "qs.extend_pandas()\n",
    "\n",
    "# fetch the daily returns for a stock\n",
    "stock = qs.utils.download_returns('AAPL')\n",
    "print(type(stock))\n",
    "# show sharpe ratio\n",
    "qs.stats.sharpe(stock)\n",
    "\n",
    "# or using extend_pandas() :\n",
    "stock.sharpe()\n",
    "qs.reports.html(stock, \"SPY\")"
   ]
  }
 ],
 "metadata": {
  "kernelspec": {
   "display_name": "Python 3.9.12 ('pair_trading')",
   "language": "python",
   "name": "python3"
  },
  "language_info": {
   "codemirror_mode": {
    "name": "ipython",
    "version": 3
   },
   "file_extension": ".py",
   "mimetype": "text/x-python",
   "name": "python",
   "nbconvert_exporter": "python",
   "pygments_lexer": "ipython3",
   "version": "3.9.12"
  },
  "orig_nbformat": 4,
  "vscode": {
   "interpreter": {
    "hash": "c7c8976d98647d0a0e2d8d49cd7ea0146baaad87a76522b11ec3d5b1c89ce1c2"
   }
  }
 },
 "nbformat": 4,
 "nbformat_minor": 2
}
